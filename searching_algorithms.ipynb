{
 "cells": [
  {
   "cell_type": "code",
   "execution_count": 2,
   "metadata": {},
   "outputs": [
    {
     "name": "stdout",
     "output_type": "stream",
     "text": [
      "7 at index 4\n",
      "100 not in array\n"
     ]
    }
   ],
   "source": [
    "# linear search\n",
    "\n",
    "def linear_search(arr,val):\n",
    "    for i in range(len(arr)):\n",
    "        if arr[i] == val:\n",
    "            return f'{val} at index {i+1}'\n",
    "    return f'{val} not in array'\n",
    "array = [2,3,5,7,8]\n",
    "print(linear_search(array,7))\n",
    "print(linear_search(array,100))"
   ]
  },
  {
   "cell_type": "code",
   "execution_count": 8,
   "metadata": {},
   "outputs": [
    {
     "name": "stdout",
     "output_type": "stream",
     "text": [
      "left : 3 mid : 2 right : 4 \n",
      "7 at index 4 in array.\n",
      "left : 3 mid : 2 right : 4 \n",
      "left : 4 mid : 3 right : 4 \n",
      "left : 5 mid : 4 right : 4 \n",
      "100 not found in array\n"
     ]
    }
   ],
   "source": [
    "# binary search\n",
    "\n",
    "def bin_search(arr,val):\n",
    "    L , R = 0 ,len(arr)-1\n",
    "    while L <= R:\n",
    "        mid = (L+R)//2\n",
    "        if array[mid] == val:\n",
    "            return f'{val} at index {mid+1} in array.'\n",
    "        elif array[mid] > val:\n",
    "            R = mid -1\n",
    "        elif array[mid] < val:\n",
    "            L = mid +1\n",
    "        print(f'left : {L} mid : {mid} right : {R} ')\n",
    "    return f'{val} not found in array'\n",
    "\n",
    "array = [2,3,5,7,8]\n",
    "print(bin_search(array,7))\n",
    "print(bin_search(array,100))"
   ]
  }
 ],
 "metadata": {
  "kernelspec": {
   "display_name": "standard",
   "language": "python",
   "name": "python3"
  },
  "language_info": {
   "codemirror_mode": {
    "name": "ipython",
    "version": 3
   },
   "file_extension": ".py",
   "mimetype": "text/x-python",
   "name": "python",
   "nbconvert_exporter": "python",
   "pygments_lexer": "ipython3",
   "version": "3.12.3"
  }
 },
 "nbformat": 4,
 "nbformat_minor": 2
}
