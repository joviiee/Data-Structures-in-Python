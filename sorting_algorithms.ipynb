{
 "cells": [
  {
   "cell_type": "code",
   "execution_count": null,
   "metadata": {},
   "outputs": [
    {
     "name": "stdout",
     "output_type": "stream",
     "text": [
      "0\n",
      "1\n",
      "[3, 5, 7, 11, 12]\n"
     ]
    }
   ],
   "source": [
    "# bubble sort\n",
    "\n",
    "array  = [7,12,9,11,3]\n",
    "\n",
    "def bubble_sort(array):\n",
    "    n = len(array)\n",
    "    for _ in range(n-1):\n",
    "        print(_)\n",
    "        sorted = True\n",
    "        for i in range(n-1):\n",
    "            if array[i] > array[i+1]:\n",
    "                array[i],array[i+1] = array[i+1],array[i]\n",
    "                sorted = False\n",
    "        if sorted:\n",
    "            return array\n",
    "    return array\n",
    "\n",
    "print(bubble_sort(array))\n"
   ]
  },
  {
   "cell_type": "code",
   "execution_count": 23,
   "metadata": {},
   "outputs": [
    {
     "name": "stdout",
     "output_type": "stream",
     "text": [
      "[2, 3, 7, 8, 9, 11, 12, 21, 43, 98]\n"
     ]
    }
   ],
   "source": [
    "# selection sort \n",
    "array  = [7,12,9,11,3,2,8,98,43,21]\n",
    "\n",
    "def sel_sort(array):\n",
    "    position = 0\n",
    "    n = len(array)\n",
    "\n",
    "    while position < n:\n",
    "        lowest = array[position]\n",
    "        for i in range(position,n):\n",
    "            if array[i] < lowest:\n",
    "                lowest,array[i] = array[i],lowest\n",
    "        array[position] = lowest\n",
    "        position += 1\n",
    "    return array\n",
    "\n",
    "print(sel_sort(array))"
   ]
  },
  {
   "cell_type": "code",
   "execution_count": 8,
   "metadata": {},
   "outputs": [
    {
     "data": {
      "text/plain": [
       "[3, 5, 7, 9, 11, 12, 88, 110]"
      ]
     },
     "execution_count": 8,
     "metadata": {},
     "output_type": "execute_result"
    }
   ],
   "source": [
    "# insertion sort \n",
    "array  = [7,12,9,11,3,88,110,5]\n",
    "\n",
    "def insert_sort(array):\n",
    "    n = len(array)\n",
    "\n",
    "    for i in range(1,n):\n",
    "        target = array[i]\n",
    "        while array[i-1] > target and i > 0:\n",
    "            array[i] = array[i-1]\n",
    "            i-=1\n",
    "        array[i] = target\n",
    "    return array\n",
    "\n",
    "insert_sort(array)\n",
    "        \n"
   ]
  },
  {
   "cell_type": "code",
   "execution_count": 11,
   "metadata": {},
   "outputs": [
    {
     "data": {
      "text/plain": [
       "[1, 2, 3, 4, 5, 6, 7, 8, 9, 10]"
      ]
     },
     "execution_count": 11,
     "metadata": {},
     "output_type": "execute_result"
    }
   ],
   "source": [
    "# quicksort\n",
    "\n",
    "array = [10,7,3,1,6,4,2,8,9,5]\n",
    "\n",
    "def find_pivot(array,low,high):\n",
    "    pivot = array[high]\n",
    "    i = low - 1\n",
    "    \n",
    "    for j in range(low,high+1):\n",
    "        if array[j] <= pivot:\n",
    "            i += 1\n",
    "            array[i], array[j] = array[j], array[i]\n",
    "    return i\n",
    "\n",
    "def quicksort(array,low = 0,high = None):\n",
    "    if high == None:\n",
    "        high = len(array) -1\n",
    "    if low < high:\n",
    "        pivot_index = find_pivot(array,low,high)\n",
    "\n",
    "        quicksort(array,low,pivot_index -1)\n",
    "        quicksort(array,pivot_index + 1,high)\n",
    "\n",
    "quicksort(array)\n",
    "array"
   ]
  },
  {
   "cell_type": "code",
   "execution_count": 14,
   "metadata": {},
   "outputs": [
    {
     "data": {
      "text/plain": [
       "[-98, -9, 2, 3, 7, 8, 11, 12, 21, 43]"
      ]
     },
     "execution_count": 14,
     "metadata": {},
     "output_type": "execute_result"
    }
   ],
   "source": [
    "# counting sort\n",
    "\n",
    "def count_sort(arr):\n",
    "    max_val = max(arr)\n",
    "    min_val = min(arr)\n",
    "    counts_len = max_val - min_val + 1\n",
    "    counts = [0] * counts_len\n",
    "    for value in array:\n",
    "        counts[value - min_val] += 1\n",
    "    index = 0\n",
    "    for i in range(counts_len):\n",
    "        while counts[i] > 0 :\n",
    "            array[index] = i+min_val\n",
    "            counts[i]-=1\n",
    "            index+=1\n",
    "    return array\n",
    "array  = [7,12,-9,11,3,2,8,-98,43,21]\n",
    "count_sort(array)"
   ]
  },
  {
   "cell_type": "code",
   "execution_count": 11,
   "metadata": {},
   "outputs": [
    {
     "name": "stdout",
     "output_type": "stream",
     "text": [
      "prev_divisor : 1 ---- [[], [], [], [], [], [], [], [], [], []]\n",
      "170\n",
      "[[170], [], [], [], [], [], [], [], [], []]\n",
      "45\n",
      "[[170], [], [], [], [], [45], [], [], [], []]\n",
      "75\n",
      "[[170], [], [], [], [], [45, 75], [], [], [], []]\n",
      "90\n",
      "[[170, 90], [], [], [], [], [45, 75], [], [], [], []]\n",
      "802\n",
      "[[170, 90], [], [802], [], [], [45, 75], [], [], [], []]\n",
      "24\n",
      "[[170, 90], [], [802], [], [24], [45, 75], [], [], [], []]\n",
      "2\n",
      "[[170, 90], [], [802, 2], [], [24], [45, 75], [], [], [], []]\n",
      "66\n",
      "[[170, 90], [], [802, 2], [], [24], [45, 75], [66], [], [], []]\n",
      "\n",
      "\n",
      " [170, 90, 802, 2, 24, 45, 75, 66]\n",
      "prev_divisor : 10 ---- [[], [], [], [], [], [], [], [], [], []]\n",
      "170\n",
      "[[], [], [], [], [], [], [], [170], [], []]\n",
      "90\n",
      "[[], [], [], [], [], [], [], [170], [], [90]]\n",
      "802\n",
      "[[802], [], [], [], [], [], [], [170], [], [90]]\n",
      "2\n",
      "[[802, 2], [], [], [], [], [], [], [170], [], [90]]\n",
      "24\n",
      "[[802, 2], [], [24], [], [], [], [], [170], [], [90]]\n",
      "45\n",
      "[[802, 2], [], [24], [], [45], [], [], [170], [], [90]]\n",
      "75\n",
      "[[802, 2], [], [24], [], [45], [], [], [170, 75], [], [90]]\n",
      "66\n",
      "[[802, 2], [], [24], [], [45], [], [66], [170, 75], [], [90]]\n",
      "\n",
      "\n",
      " [802, 2, 24, 45, 66, 170, 75, 90]\n",
      "prev_divisor : 100 ---- [[], [], [], [], [], [], [], [], [], []]\n",
      "802\n",
      "[[], [], [], [], [], [], [], [], [802], []]\n",
      "2\n",
      "[[2], [], [], [], [], [], [], [], [802], []]\n",
      "24\n",
      "[[2, 24], [], [], [], [], [], [], [], [802], []]\n",
      "45\n",
      "[[2, 24, 45], [], [], [], [], [], [], [], [802], []]\n",
      "66\n",
      "[[2, 24, 45, 66], [], [], [], [], [], [], [], [802], []]\n",
      "170\n",
      "[[2, 24, 45, 66], [170], [], [], [], [], [], [], [802], []]\n",
      "75\n",
      "[[2, 24, 45, 66, 75], [170], [], [], [], [], [], [], [802], []]\n",
      "90\n",
      "[[2, 24, 45, 66, 75, 90], [170], [], [], [], [], [], [], [802], []]\n",
      "\n",
      "\n",
      " [2, 24, 45, 66, 75, 90, 170, 802]\n"
     ]
    }
   ],
   "source": [
    "# radix sort\n",
    "def radix_sort(array):\n",
    "    prev_divisor = 1\n",
    "    curr_divisor = 10\n",
    "    max_val = max(array)\n",
    "    \n",
    "    while max_val//prev_divisor != 0:\n",
    "        radix_array = [[] for _ in range(10)]\n",
    "        print(f'prev_divisor : {prev_divisor} ---- {radix_array}')\n",
    "        for item in array:\n",
    "            digit = int((item%curr_divisor - item%prev_divisor)/prev_divisor)\n",
    "            print(item)\n",
    "            radix_array[digit].append(item)\n",
    "            print(radix_array)\n",
    "            \n",
    "        prev_divisor *= 10\n",
    "        curr_divisor *= 10\n",
    "        array = []\n",
    "        for bucket in radix_array:\n",
    "            for item in bucket:\n",
    "                array.append(item)\n",
    "        print(f'\\n\\n {array}')\n",
    "\n",
    "\n",
    "\n",
    "\n",
    "array = [170, 45, 75, 90, 802, 24, 2, 66]\n",
    "\n",
    "radix_sort(array)\n"
   ]
  },
  {
   "cell_type": "code",
   "execution_count": 1,
   "metadata": {},
   "outputs": [
    {
     "name": "stdout",
     "output_type": "stream",
     "text": [
      "sorted left : [3]\n",
      "sorted right : [7]\n",
      "merge called on left : [3] and right : [7]\n",
      "result : [3, 7]\n",
      "sorted left : [6]\n",
      "sorted right : [-10]\n",
      "merge called on left : [6] and right : [-10]\n",
      "result : [-10, 6]\n",
      "sorted left : [3, 7]\n",
      "sorted right : [-10, 6]\n",
      "merge called on left : [3, 7] and right : [-10, 6]\n",
      "result : [-10, 3, 6, 7]\n",
      "sorted left : [15]\n",
      "sorted right : [23.5]\n",
      "merge called on left : [15] and right : [23.5]\n",
      "result : [15, 23.5]\n",
      "sorted left : [55]\n",
      "sorted right : [-13]\n",
      "merge called on left : [55] and right : [-13]\n",
      "result : [-13, 55]\n",
      "sorted left : [15, 23.5]\n",
      "sorted right : [-13, 55]\n",
      "merge called on left : [15, 23.5] and right : [-13, 55]\n",
      "result : [-13, 15, 23.5, 55]\n",
      "sorted left : [-10, 3, 6, 7]\n",
      "sorted right : [-13, 15, 23.5, 55]\n",
      "merge called on left : [-10, 3, 6, 7] and right : [-13, 15, 23.5, 55]\n",
      "result : [-13, -10, 3, 6, 7, 15, 23.5, 55]\n",
      "Sorted array: [-13, -10, 3, 6, 7, 15, 23.5, 55]\n"
     ]
    }
   ],
   "source": [
    "# merge sort \n",
    "\n",
    "def mergeSort(arr):\n",
    "    if len(arr) <= 1:\n",
    "        return arr\n",
    "\n",
    "    mid = len(arr) // 2\n",
    "    leftHalf = arr[:mid]\n",
    "    rightHalf = arr[mid:]\n",
    "\n",
    "    sortedLeft = mergeSort(leftHalf)\n",
    "    sortedRight = mergeSort(rightHalf)\n",
    "    print(f'sorted left : {sortedLeft}')\n",
    "    print(f'sorted right : {sortedRight}')\n",
    "\n",
    "    return merge(sortedLeft, sortedRight)\n",
    "\n",
    "def merge(left, right):\n",
    "    print(f'merge called on left : {left} and right : {right}')\n",
    "    result = []\n",
    "    i = j = 0\n",
    "\n",
    "    while i < len(left) and j < len(right):\n",
    "        if left[i] < right[j]:\n",
    "            result.append(left[i])\n",
    "            i += 1\n",
    "        else:\n",
    "            result.append(right[j])\n",
    "            j += 1\n",
    "\n",
    "    result.extend(left[i:])\n",
    "    result.extend(right[j:])\n",
    "    print (f'result : {result}')\n",
    "\n",
    "    return result\n",
    "\n",
    "unsortedArr = [3, 7, 6, -10, 15, 23.5, 55, -13]\n",
    "sortedArr = mergeSort(unsortedArr)\n",
    "print(\"Sorted array:\", sortedArr)"
   ]
  }
 ],
 "metadata": {
  "kernelspec": {
   "display_name": "standard",
   "language": "python",
   "name": "python3"
  },
  "language_info": {
   "codemirror_mode": {
    "name": "ipython",
    "version": 3
   },
   "file_extension": ".py",
   "mimetype": "text/x-python",
   "name": "python",
   "nbconvert_exporter": "python",
   "pygments_lexer": "ipython3",
   "version": "3.12.3"
  }
 },
 "nbformat": 4,
 "nbformat_minor": 2
}
